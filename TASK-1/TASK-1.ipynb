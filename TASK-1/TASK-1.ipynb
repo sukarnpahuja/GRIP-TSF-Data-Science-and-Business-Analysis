{
 "cells": [
  {
   "cell_type": "markdown",
   "id": "88891f8e",
   "metadata": {},
   "source": [
    "# Author : Sukarn Pahuja\n",
    "## The Sparks Foundation : Data Science and Business Analytics (GRIP JUNE'21)"
   ]
  },
  {
   "cell_type": "markdown",
   "id": "6d922e65",
   "metadata": {},
   "source": [
    "# TASK-1 : Prediction Using Supervised ML\n",
    "- Predict the percentage of an student based on the no. of study hours.\n",
    "- This is a simple linear regression task as it involves just 2 variables.\n",
    "- You can use R, Python, SAS Enterprise Miner or any other tool\n",
    "- Data can be found at http://bit.ly/w-data\n",
    "- What will be predicted score if a student studies for 9.25 hrs/ day? "
   ]
  },
  {
   "cell_type": "markdown",
   "id": "4e6f77dc",
   "metadata": {},
   "source": [
    "### Importing Libraries"
   ]
  },
  {
   "cell_type": "code",
   "execution_count": 87,
   "id": "34f5b4b6",
   "metadata": {},
   "outputs": [],
   "source": [
    "import numpy as np\n",
    "import pandas as pd\n",
    "import matplotlib.pyplot as plt"
   ]
  },
  {
   "cell_type": "code",
   "execution_count": 88,
   "id": "78d6bf5f",
   "metadata": {},
   "outputs": [],
   "source": [
    "from sklearn.model_selection import train_test_split \n",
    "from sklearn.linear_model import LinearRegression\n",
    "from sklearn import metrics"
   ]
  },
  {
   "cell_type": "markdown",
   "id": "c9540a9f",
   "metadata": {},
   "source": [
    "### Reading the data"
   ]
  },
  {
   "cell_type": "code",
   "execution_count": 89,
   "id": "385865ca",
   "metadata": {},
   "outputs": [
    {
     "name": "stdout",
     "output_type": "stream",
     "text": [
      "Data Frame - First 10 rows\n"
     ]
    },
    {
     "data": {
      "text/html": [
       "<div>\n",
       "<style scoped>\n",
       "    .dataframe tbody tr th:only-of-type {\n",
       "        vertical-align: middle;\n",
       "    }\n",
       "\n",
       "    .dataframe tbody tr th {\n",
       "        vertical-align: top;\n",
       "    }\n",
       "\n",
       "    .dataframe thead th {\n",
       "        text-align: right;\n",
       "    }\n",
       "</style>\n",
       "<table border=\"1\" class=\"dataframe\">\n",
       "  <thead>\n",
       "    <tr style=\"text-align: right;\">\n",
       "      <th></th>\n",
       "      <th>Hours</th>\n",
       "      <th>Scores</th>\n",
       "    </tr>\n",
       "  </thead>\n",
       "  <tbody>\n",
       "    <tr>\n",
       "      <th>0</th>\n",
       "      <td>2.5</td>\n",
       "      <td>21</td>\n",
       "    </tr>\n",
       "    <tr>\n",
       "      <th>1</th>\n",
       "      <td>5.1</td>\n",
       "      <td>47</td>\n",
       "    </tr>\n",
       "    <tr>\n",
       "      <th>2</th>\n",
       "      <td>3.2</td>\n",
       "      <td>27</td>\n",
       "    </tr>\n",
       "    <tr>\n",
       "      <th>3</th>\n",
       "      <td>8.5</td>\n",
       "      <td>75</td>\n",
       "    </tr>\n",
       "    <tr>\n",
       "      <th>4</th>\n",
       "      <td>3.5</td>\n",
       "      <td>30</td>\n",
       "    </tr>\n",
       "    <tr>\n",
       "      <th>5</th>\n",
       "      <td>1.5</td>\n",
       "      <td>20</td>\n",
       "    </tr>\n",
       "    <tr>\n",
       "      <th>6</th>\n",
       "      <td>9.2</td>\n",
       "      <td>88</td>\n",
       "    </tr>\n",
       "    <tr>\n",
       "      <th>7</th>\n",
       "      <td>5.5</td>\n",
       "      <td>60</td>\n",
       "    </tr>\n",
       "    <tr>\n",
       "      <th>8</th>\n",
       "      <td>8.3</td>\n",
       "      <td>81</td>\n",
       "    </tr>\n",
       "    <tr>\n",
       "      <th>9</th>\n",
       "      <td>2.7</td>\n",
       "      <td>25</td>\n",
       "    </tr>\n",
       "  </tbody>\n",
       "</table>\n",
       "</div>"
      ],
      "text/plain": [
       "   Hours  Scores\n",
       "0    2.5      21\n",
       "1    5.1      47\n",
       "2    3.2      27\n",
       "3    8.5      75\n",
       "4    3.5      30\n",
       "5    1.5      20\n",
       "6    9.2      88\n",
       "7    5.5      60\n",
       "8    8.3      81\n",
       "9    2.7      25"
      ]
     },
     "execution_count": 89,
     "metadata": {},
     "output_type": "execute_result"
    }
   ],
   "source": [
    "link = r'https://raw.githubusercontent.com/AdiPersonalWorks/Random/master/student_scores%20-%20student_scores.csv'\n",
    "df = pd.read_csv(link)\n",
    "\n",
    "#display 10 rows\n",
    "print('Data Frame - First 10 rows')\n",
    "df.head(10)"
   ]
  },
  {
   "cell_type": "markdown",
   "id": "751b8cec",
   "metadata": {},
   "source": [
    "### Plotting of Imported Data - Visualisation"
   ]
  },
  {
   "cell_type": "code",
   "execution_count": 90,
   "id": "f7638a8b",
   "metadata": {},
   "outputs": [
    {
     "data": {
      "image/png": "[encoded data removed]",
      "text/plain": [
       "<Figure size 600x400 with 1 Axes>"
      ]
     },
     "metadata": {},
     "output_type": "display_data"
    }
   ],
   "source": [
    "plt.style.use('ggplot')\n",
    "plt.figure(dpi=100)\n",
    "plt.scatter(x='Hours',y='Scores',data=df)\n",
    "plt.title('Score Percentage vs Hours Studied')\n",
    "plt.xlabel('Hours Studies')\n",
    "plt.ylabel('Score Percentage')\n",
    "plt.legend()\n",
    "plt.show()"
   ]
  },
  {
   "cell_type": "markdown",
   "id": "9f156d1c",
   "metadata": {},
   "source": [
    "### Data Preprocessing and Model Training"
   ]
  },
  {
   "cell_type": "code",
   "execution_count": 91,
   "id": "4fe926e0",
   "metadata": {},
   "outputs": [],
   "source": [
    "X = df.iloc[:, :-1].values  \n",
    "y = df.iloc[:, 1].values"
   ]
  },
  {
   "cell_type": "code",
   "execution_count": 101,
   "id": "31bbb45e",
   "metadata": {},
   "outputs": [
    {
     "name": "stdout",
     "output_type": "stream",
     "text": [
      "Model Training Completed\n"
     ]
    }
   ],
   "source": [
    "#training and testing sets\n",
    "X_train, X_test, y_train, y_test = train_test_split(X, y, test_size=0.2, random_state=0) \n",
    "\n",
    "#Training the model\n",
    "regressor = LinearRegression()  \n",
    "regressor.fit(X_train.reshape(-1,1), y_train)\n",
    "print('Model Training Completed')"
   ]
  },
  {
   "cell_type": "markdown",
   "id": "ef315174",
   "metadata": {},
   "source": [
    "### Regression Plot"
   ]
  },
  {
   "cell_type": "code",
   "execution_count": 93,
   "id": "292a8f6e",
   "metadata": {},
   "outputs": [
    {
     "data": {
      "image/png": "[encoded data removed]",
      "text/plain": [
       "<Figure size 600x400 with 1 Axes>"
      ]
     },
     "metadata": {},
     "output_type": "display_data"
    }
   ],
   "source": [
    "#visualising the best fit line of regression on test data\n",
    "regline = regressor.coef_*X+regressor.intercept_\n",
    "\n",
    "plt.figure(dpi=100)\n",
    "plt.scatter(X, y)\n",
    "plt.plot(X, regline,color='brown')\n",
    "plt.title('Best-Fit Regression Line')\n",
    "plt.show()"
   ]
  },
  {
   "cell_type": "markdown",
   "id": "250709ac",
   "metadata": {},
   "source": [
    "### Model Testing by making predictions"
   ]
  },
  {
   "cell_type": "code",
   "execution_count": 94,
   "id": "f13ea9a3",
   "metadata": {},
   "outputs": [
    {
     "name": "stdout",
     "output_type": "stream",
     "text": [
      "[[1.5]\n",
      " [3.2]\n",
      " [7.4]\n",
      " [2.5]\n",
      " [5.9]]\n"
     ]
    }
   ],
   "source": [
    "#using test data\n",
    "print(X_test)"
   ]
  },
  {
   "cell_type": "code",
   "execution_count": 95,
   "id": "9301afa2",
   "metadata": {},
   "outputs": [
    {
     "name": "stdout",
     "output_type": "stream",
     "text": [
      "Model Prediction\n"
     ]
    }
   ],
   "source": [
    "#model prediction\n",
    "y_pred = regressor.predict(X_test)\n",
    "print('Model Prediction')"
   ]
  },
  {
   "cell_type": "code",
   "execution_count": 96,
   "id": "34fe3e03",
   "metadata": {},
   "outputs": [
    {
     "name": "stdout",
     "output_type": "stream",
     "text": [
      "Comparing Original values with predicted values\n"
     ]
    },
    {
     "data": {
      "text/html": [
       "<div>\n",
       "<style scoped>\n",
       "    .dataframe tbody tr th:only-of-type {\n",
       "        vertical-align: middle;\n",
       "    }\n",
       "\n",
       "    .dataframe tbody tr th {\n",
       "        vertical-align: top;\n",
       "    }\n",
       "\n",
       "    .dataframe thead th {\n",
       "        text-align: right;\n",
       "    }\n",
       "</style>\n",
       "<table border=\"1\" class=\"dataframe\">\n",
       "  <thead>\n",
       "    <tr style=\"text-align: right;\">\n",
       "      <th></th>\n",
       "      <th>Original Values</th>\n",
       "      <th>Predicted Values</th>\n",
       "    </tr>\n",
       "  </thead>\n",
       "  <tbody>\n",
       "    <tr>\n",
       "      <th>0</th>\n",
       "      <td>20</td>\n",
       "      <td>16.884145</td>\n",
       "    </tr>\n",
       "    <tr>\n",
       "      <th>1</th>\n",
       "      <td>27</td>\n",
       "      <td>33.732261</td>\n",
       "    </tr>\n",
       "    <tr>\n",
       "      <th>2</th>\n",
       "      <td>69</td>\n",
       "      <td>75.357018</td>\n",
       "    </tr>\n",
       "    <tr>\n",
       "      <th>3</th>\n",
       "      <td>30</td>\n",
       "      <td>26.794801</td>\n",
       "    </tr>\n",
       "    <tr>\n",
       "      <th>4</th>\n",
       "      <td>62</td>\n",
       "      <td>60.491033</td>\n",
       "    </tr>\n",
       "  </tbody>\n",
       "</table>\n",
       "</div>"
      ],
      "text/plain": [
       "   Original Values  Predicted Values\n",
       "0               20         16.884145\n",
       "1               27         33.732261\n",
       "2               69         75.357018\n",
       "3               30         26.794801\n",
       "4               62         60.491033"
      ]
     },
     "execution_count": 96,
     "metadata": {},
     "output_type": "execute_result"
    }
   ],
   "source": [
    "#comparing original result with predicted results\n",
    "com = pd.DataFrame({'Original Values': y_test, 'Predicted Values': y_pred}) \n",
    "print('Comparing Original values with predicted values')\n",
    "com"
   ]
  },
  {
   "cell_type": "markdown",
   "id": "dfb7347c",
   "metadata": {},
   "source": [
    "### Visulizing the Comarison between Original and predicted values"
   ]
  },
  {
   "cell_type": "code",
   "execution_count": 97,
   "id": "2747d5d4",
   "metadata": {},
   "outputs": [
    {
     "data": {
      "image/png": "[encoded data removed]",
      "text/plain": [
       "<Figure size 576x360 with 1 Axes>"
      ]
     },
     "metadata": {},
     "output_type": "display_data"
    }
   ],
   "source": [
    "com.plot.bar(figsize=(8,5))\n",
    "plt.title('Comparison Plot')\n",
    "plt.show()"
   ]
  },
  {
   "cell_type": "code",
   "execution_count": 98,
   "id": "b978e3f4",
   "metadata": {},
   "outputs": [
    {
     "name": "stdout",
     "output_type": "stream",
     "text": [
      "Training Score evaluated is:  0.9515510725211552\n",
      "Test Score evaluated is:  0.9454906892105356\n"
     ]
    }
   ],
   "source": [
    "# evaluating the training and test score\n",
    "print(\"Training Score evaluated is: \",regressor.score(X_train,y_train))\n",
    "print(\"Test Score evaluated is: \",regressor.score(X_test,y_test))"
   ]
  },
  {
   "cell_type": "markdown",
   "id": "3734f0c7",
   "metadata": {},
   "source": [
    "### Result - Calculating the Predicted Score with the given data"
   ]
  },
  {
   "cell_type": "code",
   "execution_count": 99,
   "id": "6d5b7894",
   "metadata": {},
   "outputs": [
    {
     "name": "stdout",
     "output_type": "stream",
     "text": [
      "**************************************\n",
      "           PREDICTED RESULT\n",
      "**************************************\n",
      "No of Hours =  9.25\n",
      "Predicted Score =  93.69173248737538\n"
     ]
    }
   ],
   "source": [
    "# hours of study = 9.25\n",
    "hr = 9.25\n",
    "test = np.array([hr])\n",
    "test = test.reshape(-1, 1)\n",
    "result= regressor.predict(test)\n",
    "print('**************************************')\n",
    "print('           PREDICTED RESULT')\n",
    "print('**************************************')\n",
    "print(\"No of Hours = \",hr)\n",
    "print(\"Predicted Score = \",result[0])"
   ]
  },
  {
   "cell_type": "markdown",
   "id": "ded13b42",
   "metadata": {},
   "source": [
    "**The Predicted Score if a student studies 9.25 hrs/day is 93.69**"
   ]
  },
  {
   "cell_type": "markdown",
   "id": "8322c411",
   "metadata": {},
   "source": [
    "### Model Evaluation"
   ]
  },
  {
   "cell_type": "code",
   "execution_count": 100,
   "id": "faff1ef6",
   "metadata": {},
   "outputs": [
    {
     "name": "stdout",
     "output_type": "stream",
     "text": [
      "Mean Squared Error is : 21.5987693072174\n",
      "Root Mean Squared Error is : 4.6474476121003665\n",
      "Mean Absolute Error is : 4.183859899002975\n",
      "R-2 Score is : 0.9454906892105356\n"
     ]
    }
   ],
   "source": [
    "print('Mean Squared Error is :', metrics.mean_squared_error(y_test, y_pred))\n",
    "print('Root Mean Squared Error is :', np.sqrt(metrics.mean_squared_error(y_test, y_pred)))\n",
    "print('Mean Absolute Error is :',metrics.mean_absolute_error(y_test, y_pred)) \n",
    "print('R-2 Score is :', metrics.r2_score(y_test, y_pred))"
   ]
  },
  {
   "cell_type": "markdown",
   "id": "8e7f2689",
   "metadata": {},
   "source": [
    "### Thank You"
   ]
  }
 ],
 "metadata": {
  "kernelspec": {
   "display_name": "Python 3",
   "language": "python",
   "name": "python3"
  },
  "language_info": {
   "codemirror_mode": {
    "name": "ipython",
    "version": 3
   },
   "file_extension": ".py",
   "mimetype": "text/x-python",
   "name": "python",
   "nbconvert_exporter": "python",
   "pygments_lexer": "ipython3",
   "version": "3.8.8"
  }
 },
 "nbformat": 4,
 "nbformat_minor": 5
}
